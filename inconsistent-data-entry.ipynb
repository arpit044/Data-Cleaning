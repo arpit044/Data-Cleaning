{
 "cells": [
  {
   "cell_type": "markdown",
   "id": "legendary-electronics",
   "metadata": {
    "papermill": {
     "duration": 0.015329,
     "end_time": "2021-05-07T19:58:43.386464",
     "exception": false,
     "start_time": "2021-05-07T19:58:43.371135",
     "status": "completed"
    },
    "tags": []
   },
   "source": [
    "**This notebook is an exercise in the [Data Cleaning](https://www.kaggle.com/learn/data-cleaning) course.  You can reference the tutorial at [this link](https://www.kaggle.com/alexisbcook/inconsistent-data-entry).**\n",
    "\n",
    "---\n"
   ]
  },
  {
   "cell_type": "markdown",
   "id": "appointed-visibility",
   "metadata": {
    "papermill": {
     "duration": 0.013487,
     "end_time": "2021-05-07T19:58:43.413888",
     "exception": false,
     "start_time": "2021-05-07T19:58:43.400401",
     "status": "completed"
    },
    "tags": []
   },
   "source": [
    "In this exercise, you'll apply what you learned in the **Inconsistent data entry** tutorial.\n",
    "\n",
    "# Setup\n",
    "\n",
    "The questions below will give you feedback on your work. Run the following cell to set up the feedback system."
   ]
  },
  {
   "cell_type": "code",
   "execution_count": 1,
   "id": "neutral-correction",
   "metadata": {
    "execution": {
     "iopub.execute_input": "2021-05-07T19:58:43.447751Z",
     "iopub.status.busy": "2021-05-07T19:58:43.447104Z",
     "iopub.status.idle": "2021-05-07T19:58:43.572824Z",
     "shell.execute_reply": "2021-05-07T19:58:43.571652Z"
    },
    "papermill": {
     "duration": 0.145266,
     "end_time": "2021-05-07T19:58:43.573015",
     "exception": false,
     "start_time": "2021-05-07T19:58:43.427749",
     "status": "completed"
    },
    "tags": []
   },
   "outputs": [
    {
     "name": "stdout",
     "output_type": "stream",
     "text": [
      "Setup Complete\n"
     ]
    }
   ],
   "source": [
    "from learntools.core import binder\n",
    "binder.bind(globals())\n",
    "from learntools.data_cleaning.ex5 import *\n",
    "print(\"Setup Complete\")"
   ]
  },
  {
   "cell_type": "markdown",
   "id": "rational-skiing",
   "metadata": {
    "papermill": {
     "duration": 0.014303,
     "end_time": "2021-05-07T19:58:43.602754",
     "exception": false,
     "start_time": "2021-05-07T19:58:43.588451",
     "status": "completed"
    },
    "tags": []
   },
   "source": [
    "# Get our environment set up\n",
    "\n",
    "The first thing we'll need to do is load in the libraries and dataset we'll be using.  We use the same dataset from the tutorial."
   ]
  },
  {
   "cell_type": "code",
   "execution_count": 2,
   "id": "unable-student",
   "metadata": {
    "execution": {
     "iopub.execute_input": "2021-05-07T19:58:43.637650Z",
     "iopub.status.busy": "2021-05-07T19:58:43.636886Z",
     "iopub.status.idle": "2021-05-07T19:58:43.652122Z",
     "shell.execute_reply": "2021-05-07T19:58:43.651423Z"
    },
    "papermill": {
     "duration": 0.034979,
     "end_time": "2021-05-07T19:58:43.652285",
     "exception": false,
     "start_time": "2021-05-07T19:58:43.617306",
     "status": "completed"
    },
    "tags": []
   },
   "outputs": [],
   "source": [
    "# modules we'll use\n",
    "import pandas as pd\n",
    "import numpy as np\n",
    "\n",
    "# helpful modules\n",
    "import fuzzywuzzy\n",
    "from fuzzywuzzy import process\n",
    "import chardet\n",
    "\n",
    "# read in all our data\n",
    "professors = pd.read_csv(\"../input/pakistan-intellectual-capital/pakistan_intellectual_capital.csv\")\n",
    "\n",
    "# set seed for reproducibility\n",
    "np.random.seed(0)"
   ]
  },
  {
   "cell_type": "markdown",
   "id": "packed-operation",
   "metadata": {
    "papermill": {
     "duration": 0.014946,
     "end_time": "2021-05-07T19:58:43.682160",
     "exception": false,
     "start_time": "2021-05-07T19:58:43.667214",
     "status": "completed"
    },
    "tags": []
   },
   "source": [
    "Next, we'll redo all of the work that we did in the tutorial."
   ]
  },
  {
   "cell_type": "code",
   "execution_count": 3,
   "id": "adult-enhancement",
   "metadata": {
    "execution": {
     "iopub.execute_input": "2021-05-07T19:58:43.729054Z",
     "iopub.status.busy": "2021-05-07T19:58:43.725702Z",
     "iopub.status.idle": "2021-05-07T19:58:43.735334Z",
     "shell.execute_reply": "2021-05-07T19:58:43.734527Z"
    },
    "papermill": {
     "duration": 0.037355,
     "end_time": "2021-05-07T19:58:43.735530",
     "exception": false,
     "start_time": "2021-05-07T19:58:43.698175",
     "status": "completed"
    },
    "tags": []
   },
   "outputs": [
    {
     "name": "stdout",
     "output_type": "stream",
     "text": [
      "All done!\n"
     ]
    }
   ],
   "source": [
    "# convert to lower case\n",
    "professors['Country'] = professors['Country'].str.lower()\n",
    "# remove trailing white spaces\n",
    "professors['Country'] = professors['Country'].str.strip()\n",
    "\n",
    "# get the top 10 closest matches to \"south korea\"\n",
    "countries = professors['Country'].unique()\n",
    "matches = fuzzywuzzy.process.extract(\"south korea\", countries, limit=10, scorer=fuzzywuzzy.fuzz.token_sort_ratio)\n",
    "\n",
    "def replace_matches_in_column(df, column, string_to_match, min_ratio = 47):\n",
    "    # get a list of unique strings\n",
    "    strings = df[column].unique()\n",
    "    \n",
    "    # get the top 10 closest matches to our input string\n",
    "    matches = fuzzywuzzy.process.extract(string_to_match, strings, \n",
    "                                         limit=10, scorer=fuzzywuzzy.fuzz.token_sort_ratio)\n",
    "\n",
    "    # only get matches with a ratio > 90\n",
    "    close_matches = [matches[0] for matches in matches if matches[1] >= min_ratio]\n",
    "\n",
    "    # get the rows of all the close matches in our dataframe\n",
    "    rows_with_matches = df[column].isin(close_matches)\n",
    "\n",
    "    # replace all rows with close matches with the input matches \n",
    "    df.loc[rows_with_matches, column] = string_to_match\n",
    "    \n",
    "    # let us know the function's done\n",
    "    print(\"All done!\")\n",
    "    \n",
    "replace_matches_in_column(df=professors, column='Country', string_to_match=\"south korea\")\n",
    "countries = professors['Country'].unique()"
   ]
  },
  {
   "cell_type": "markdown",
   "id": "anonymous-favor",
   "metadata": {
    "papermill": {
     "duration": 0.014969,
     "end_time": "2021-05-07T19:58:43.765864",
     "exception": false,
     "start_time": "2021-05-07T19:58:43.750895",
     "status": "completed"
    },
    "tags": []
   },
   "source": [
    "# 1) Examine another column\n",
    "\n",
    "Write code below to take a look at all the unique values in the \"Graduated from\" column."
   ]
  },
  {
   "cell_type": "code",
   "execution_count": 4,
   "id": "irish-joyce",
   "metadata": {
    "execution": {
     "iopub.execute_input": "2021-05-07T19:58:43.802250Z",
     "iopub.status.busy": "2021-05-07T19:58:43.801188Z",
     "iopub.status.idle": "2021-05-07T19:58:43.803713Z",
     "shell.execute_reply": "2021-05-07T19:58:43.804174Z"
    },
    "papermill": {
     "duration": 0.023289,
     "end_time": "2021-05-07T19:58:43.804389",
     "exception": false,
     "start_time": "2021-05-07T19:58:43.781100",
     "status": "completed"
    },
    "tags": []
   },
   "outputs": [],
   "source": [
    "# TODO: Your code here\n",
    "unis = professors['Graduated from'].unique()"
   ]
  },
  {
   "cell_type": "markdown",
   "id": "greatest-republic",
   "metadata": {
    "papermill": {
     "duration": 0.015166,
     "end_time": "2021-05-07T19:58:43.834658",
     "exception": false,
     "start_time": "2021-05-07T19:58:43.819492",
     "status": "completed"
    },
    "tags": []
   },
   "source": []
  },
  {
   "cell_type": "markdown",
   "id": "fifteen-dylan",
   "metadata": {
    "papermill": {
     "duration": 0.014967,
     "end_time": "2021-05-07T19:58:43.864774",
     "exception": false,
     "start_time": "2021-05-07T19:58:43.849807",
     "status": "completed"
    },
    "tags": []
   },
   "source": [
    "Do you notice any inconsistencies in the data?  Can any of the inconsistencies in the data be fixed by removing white spaces at the beginning and end of cells?\n",
    "\n",
    "Once you have answered these questions, run the code cell below to get credit for your work."
   ]
  },
  {
   "cell_type": "code",
   "execution_count": 5,
   "id": "straight-courage",
   "metadata": {
    "execution": {
     "iopub.execute_input": "2021-05-07T19:58:43.899288Z",
     "iopub.status.busy": "2021-05-07T19:58:43.898259Z",
     "iopub.status.idle": "2021-05-07T19:58:43.909478Z",
     "shell.execute_reply": "2021-05-07T19:58:43.908827Z"
    },
    "papermill": {
     "duration": 0.029622,
     "end_time": "2021-05-07T19:58:43.909619",
     "exception": false,
     "start_time": "2021-05-07T19:58:43.879997",
     "status": "completed"
    },
    "tags": []
   },
   "outputs": [
    {
     "data": {
      "application/javascript": [
       "parent.postMessage({\"jupyterEvent\": \"custom.exercise_interaction\", \"data\": {\"outcomeType\": 1, \"valueTowardsCompletion\": 0.3333333333333333, \"interactionType\": 1, \"questionType\": 4, \"questionId\": \"1_ExamineProvince\", \"learnToolsVersion\": \"0.3.4\", \"failureMessage\": \"\", \"exceptionClass\": \"\", \"trace\": \"\"}}, \"*\")"
      ],
      "text/plain": [
       "<IPython.core.display.Javascript object>"
      ]
     },
     "metadata": {},
     "output_type": "display_data"
    },
    {
     "data": {
      "text/markdown": [
       "<span style=\"color:#33cc33\">Correct:</span> \n",
       "\n",
       "There are inconsistencies that can be fixed by removing white spaces at the beginning and end of cells.  For instance, \"University of Central Florida\" and \" University of Central Florida\" both appear in the column."
      ],
      "text/plain": [
       "Correct: \n",
       "\n",
       "There are inconsistencies that can be fixed by removing white spaces at the beginning and end of cells.  For instance, \"University of Central Florida\" and \" University of Central Florida\" both appear in the column."
      ]
     },
     "metadata": {},
     "output_type": "display_data"
    }
   ],
   "source": [
    "# Check your answer (Run this code cell to receive credit!)\n",
    "q1.check()"
   ]
  },
  {
   "cell_type": "code",
   "execution_count": 6,
   "id": "indian-sunset",
   "metadata": {
    "execution": {
     "iopub.execute_input": "2021-05-07T19:58:43.947115Z",
     "iopub.status.busy": "2021-05-07T19:58:43.946462Z",
     "iopub.status.idle": "2021-05-07T19:58:43.949776Z",
     "shell.execute_reply": "2021-05-07T19:58:43.949278Z"
    },
    "papermill": {
     "duration": 0.023895,
     "end_time": "2021-05-07T19:58:43.949917",
     "exception": false,
     "start_time": "2021-05-07T19:58:43.926022",
     "status": "completed"
    },
    "tags": []
   },
   "outputs": [],
   "source": [
    "# Line below will give you a hint\n",
    "#q1.hint()"
   ]
  },
  {
   "cell_type": "markdown",
   "id": "muslim-feelings",
   "metadata": {
    "papermill": {
     "duration": 0.01656,
     "end_time": "2021-05-07T19:58:43.982981",
     "exception": false,
     "start_time": "2021-05-07T19:58:43.966421",
     "status": "completed"
    },
    "tags": []
   },
   "source": [
    "# 2) Do some text pre-processing\n",
    "\n",
    "Convert every entry in the \"Graduated from\" column in the `professors` DataFrame to remove white spaces at the beginning and end of cells."
   ]
  },
  {
   "cell_type": "code",
   "execution_count": 7,
   "id": "pressed-scope",
   "metadata": {
    "execution": {
     "iopub.execute_input": "2021-05-07T19:58:44.024682Z",
     "iopub.status.busy": "2021-05-07T19:58:44.023995Z",
     "iopub.status.idle": "2021-05-07T19:58:44.028941Z",
     "shell.execute_reply": "2021-05-07T19:58:44.029542Z"
    },
    "papermill": {
     "duration": 0.030262,
     "end_time": "2021-05-07T19:58:44.029727",
     "exception": false,
     "start_time": "2021-05-07T19:58:43.999465",
     "status": "completed"
    },
    "tags": []
   },
   "outputs": [
    {
     "data": {
      "application/javascript": [
       "parent.postMessage({\"jupyterEvent\": \"custom.exercise_interaction\", \"data\": {\"outcomeType\": 1, \"valueTowardsCompletion\": 0.3333333333333333, \"interactionType\": 1, \"questionType\": 1, \"questionId\": \"2_TextProcessing\", \"learnToolsVersion\": \"0.3.4\", \"failureMessage\": \"\", \"exceptionClass\": \"\", \"trace\": \"\"}}, \"*\")"
      ],
      "text/plain": [
       "<IPython.core.display.Javascript object>"
      ]
     },
     "metadata": {},
     "output_type": "display_data"
    },
    {
     "data": {
      "text/markdown": [
       "<span style=\"color:#33cc33\">Correct</span>"
      ],
      "text/plain": [
       "Correct"
      ]
     },
     "metadata": {},
     "output_type": "display_data"
    }
   ],
   "source": [
    "# TODO: Your code here\n",
    "professors['Graduated from'] = professors['Graduated from'].str.strip()\n",
    "\n",
    "# Check your answer\n",
    "q2.check()"
   ]
  },
  {
   "cell_type": "code",
   "execution_count": 8,
   "id": "immediate-wichita",
   "metadata": {
    "execution": {
     "iopub.execute_input": "2021-05-07T19:58:44.067861Z",
     "iopub.status.busy": "2021-05-07T19:58:44.067209Z",
     "iopub.status.idle": "2021-05-07T19:58:44.070206Z",
     "shell.execute_reply": "2021-05-07T19:58:44.070800Z"
    },
    "papermill": {
     "duration": 0.02365,
     "end_time": "2021-05-07T19:58:44.070968",
     "exception": false,
     "start_time": "2021-05-07T19:58:44.047318",
     "status": "completed"
    },
    "tags": []
   },
   "outputs": [],
   "source": [
    "# Lines below will give you a hint or solution code\n",
    "#q2.hint()\n",
    "#q2.solution()"
   ]
  },
  {
   "cell_type": "markdown",
   "id": "fluid-property",
   "metadata": {
    "papermill": {
     "duration": 0.018241,
     "end_time": "2021-05-07T19:58:44.107544",
     "exception": false,
     "start_time": "2021-05-07T19:58:44.089303",
     "status": "completed"
    },
    "tags": []
   },
   "source": [
    "# 3) Continue working with countries\n",
    "\n",
    "In the tutorial, we focused on cleaning up inconsistencies in the \"Country\" column.  Run the code cell below to view the list of unique values that we ended with."
   ]
  },
  {
   "cell_type": "code",
   "execution_count": 9,
   "id": "married-portal",
   "metadata": {
    "execution": {
     "iopub.execute_input": "2021-05-07T19:58:44.146344Z",
     "iopub.status.busy": "2021-05-07T19:58:44.145556Z",
     "iopub.status.idle": "2021-05-07T19:58:44.153652Z",
     "shell.execute_reply": "2021-05-07T19:58:44.154323Z"
    },
    "papermill": {
     "duration": 0.029296,
     "end_time": "2021-05-07T19:58:44.154501",
     "exception": false,
     "start_time": "2021-05-07T19:58:44.125205",
     "status": "completed"
    },
    "tags": []
   },
   "outputs": [
    {
     "data": {
      "text/plain": [
       "array(['australia', 'austria', 'canada', 'china', 'finland', 'france',\n",
       "       'germany', 'greece', 'hongkong', 'ireland', 'italy', 'japan',\n",
       "       'macau', 'malaysia', 'mauritius', 'netherland', 'new zealand',\n",
       "       'norway', 'pakistan', 'portugal', 'russian federation',\n",
       "       'saudi arabia', 'scotland', 'singapore', 'south korea', 'spain',\n",
       "       'sweden', 'thailand', 'turkey', 'uk', 'urbana', 'usa', 'usofa'],\n",
       "      dtype=object)"
      ]
     },
     "execution_count": 9,
     "metadata": {},
     "output_type": "execute_result"
    }
   ],
   "source": [
    "# get all the unique values in the 'City' column\n",
    "countries = professors['Country'].unique()\n",
    "\n",
    "# sort them alphabetically and then take a closer look\n",
    "countries.sort()\n",
    "countries"
   ]
  },
  {
   "cell_type": "markdown",
   "id": "attended-louis",
   "metadata": {
    "papermill": {
     "duration": 0.017886,
     "end_time": "2021-05-07T19:58:44.190693",
     "exception": false,
     "start_time": "2021-05-07T19:58:44.172807",
     "status": "completed"
    },
    "tags": []
   },
   "source": [
    "Take another look at the \"Country\" column and see if there's any more data cleaning we need to do.\n",
    "\n",
    "It looks like 'usa' and 'usofa' should be the same country.  Correct the \"Country\" column in the dataframe so that 'usofa' appears instead as 'usa'.\n",
    "\n",
    "**Use the most recent version of the DataFrame (with the whitespaces at the beginning and end of cells removed) from question 2.**"
   ]
  },
  {
   "cell_type": "code",
   "execution_count": 10,
   "id": "expired-sight",
   "metadata": {
    "execution": {
     "iopub.execute_input": "2021-05-07T19:58:44.230356Z",
     "iopub.status.busy": "2021-05-07T19:58:44.229642Z",
     "iopub.status.idle": "2021-05-07T19:58:44.241333Z",
     "shell.execute_reply": "2021-05-07T19:58:44.241834Z"
    },
    "papermill": {
     "duration": 0.033179,
     "end_time": "2021-05-07T19:58:44.242006",
     "exception": false,
     "start_time": "2021-05-07T19:58:44.208827",
     "status": "completed"
    },
    "tags": []
   },
   "outputs": [
    {
     "name": "stdout",
     "output_type": "stream",
     "text": [
      "All done!\n"
     ]
    },
    {
     "data": {
      "application/javascript": [
       "parent.postMessage({\"jupyterEvent\": \"custom.exercise_interaction\", \"data\": {\"outcomeType\": 1, \"valueTowardsCompletion\": 0.3333333333333333, \"interactionType\": 1, \"questionType\": 1, \"questionId\": \"3_WorkingWithCities\", \"learnToolsVersion\": \"0.3.4\", \"failureMessage\": \"\", \"exceptionClass\": \"\", \"trace\": \"\"}}, \"*\")"
      ],
      "text/plain": [
       "<IPython.core.display.Javascript object>"
      ]
     },
     "metadata": {},
     "output_type": "display_data"
    },
    {
     "data": {
      "text/markdown": [
       "<span style=\"color:#33cc33\">Correct</span>"
      ],
      "text/plain": [
       "Correct"
      ]
     },
     "metadata": {},
     "output_type": "display_data"
    }
   ],
   "source": [
    "# TODO: Your code here!\n",
    "matches = fuzzywuzzy.process.extract(\"usa\", countries, limit=10, scorer=fuzzywuzzy.fuzz.token_sort_ratio)\n",
    "replace_matches_in_column(df=professors, column='Country', string_to_match=\"usa\", min_ratio=70)\n",
    "\n",
    "\n",
    "# Check your answer\n",
    "q3.check()"
   ]
  },
  {
   "cell_type": "code",
   "execution_count": 11,
   "id": "protecting-bristol",
   "metadata": {
    "execution": {
     "iopub.execute_input": "2021-05-07T19:58:44.285385Z",
     "iopub.status.busy": "2021-05-07T19:58:44.284707Z",
     "iopub.status.idle": "2021-05-07T19:58:44.289353Z",
     "shell.execute_reply": "2021-05-07T19:58:44.288799Z"
    },
    "papermill": {
     "duration": 0.02791,
     "end_time": "2021-05-07T19:58:44.289568",
     "exception": false,
     "start_time": "2021-05-07T19:58:44.261658",
     "status": "completed"
    },
    "tags": []
   },
   "outputs": [],
   "source": [
    "# Lines below will give you a hint or solution code\n",
    "#q3.hint()\n",
    "#q3.solution()"
   ]
  },
  {
   "cell_type": "markdown",
   "id": "clean-chorus",
   "metadata": {
    "papermill": {
     "duration": 0.019488,
     "end_time": "2021-05-07T19:58:44.329196",
     "exception": false,
     "start_time": "2021-05-07T19:58:44.309708",
     "status": "completed"
    },
    "tags": []
   },
   "source": [
    "# Congratulations!\n",
    "\n",
    "Congratulations for completing the **Data Cleaning** course on Kaggle Learn!\n",
    "\n",
    "To practice your new skills, you're encouraged to download and investigate some of [Kaggle's Datasets](https://www.kaggle.com/datasets)."
   ]
  },
  {
   "cell_type": "markdown",
   "id": "private-layer",
   "metadata": {
    "papermill": {
     "duration": 0.01961,
     "end_time": "2021-05-07T19:58:44.368921",
     "exception": false,
     "start_time": "2021-05-07T19:58:44.349311",
     "status": "completed"
    },
    "tags": []
   },
   "source": [
    "---\n",
    "\n",
    "\n",
    "\n",
    "\n",
    "*Have questions or comments? Visit the [Learn Discussion forum](https://www.kaggle.com/learn-forum/172650) to chat with other Learners.*"
   ]
  }
 ],
 "metadata": {
  "kernelspec": {
   "display_name": "Python 3",
   "language": "python",
   "name": "python3"
  },
  "language_info": {
   "codemirror_mode": {
    "name": "ipython",
    "version": 3
   },
   "file_extension": ".py",
   "mimetype": "text/x-python",
   "name": "python",
   "nbconvert_exporter": "python",
   "pygments_lexer": "ipython3",
   "version": "3.7.9"
  },
  "papermill": {
   "default_parameters": {},
   "duration": 8.264068,
   "end_time": "2021-05-07T19:58:44.998563",
   "environment_variables": {},
   "exception": null,
   "input_path": "__notebook__.ipynb",
   "output_path": "__notebook__.ipynb",
   "parameters": {},
   "start_time": "2021-05-07T19:58:36.734495",
   "version": "2.3.2"
  }
 },
 "nbformat": 4,
 "nbformat_minor": 5
}
