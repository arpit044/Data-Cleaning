{
 "cells": [
  {
   "cell_type": "markdown",
   "id": "continued-adelaide",
   "metadata": {
    "papermill": {
     "duration": 0.014276,
     "end_time": "2021-05-07T19:48:38.064970",
     "exception": false,
     "start_time": "2021-05-07T19:48:38.050694",
     "status": "completed"
    },
    "tags": []
   },
   "source": [
    "**This notebook is an exercise in the [Data Cleaning](https://www.kaggle.com/learn/data-cleaning) course.  You can reference the tutorial at [this link](https://www.kaggle.com/alexisbcook/character-encodings).**\n",
    "\n",
    "---\n"
   ]
  },
  {
   "cell_type": "markdown",
   "id": "virtual-success",
   "metadata": {
    "papermill": {
     "duration": 0.01311,
     "end_time": "2021-05-07T19:48:38.092646",
     "exception": false,
     "start_time": "2021-05-07T19:48:38.079536",
     "status": "completed"
    },
    "tags": []
   },
   "source": [
    "In this exercise, you'll apply what you learned in the **Character encodings** tutorial.\n",
    "\n",
    "# Setup\n",
    "\n",
    "The questions below will give you feedback on your work. Run the following cell to set up the feedback system."
   ]
  },
  {
   "cell_type": "code",
   "execution_count": 1,
   "id": "affected-norway",
   "metadata": {
    "execution": {
     "iopub.execute_input": "2021-05-07T19:48:38.126225Z",
     "iopub.status.busy": "2021-05-07T19:48:38.125459Z",
     "iopub.status.idle": "2021-05-07T19:48:38.254674Z",
     "shell.execute_reply": "2021-05-07T19:48:38.253348Z"
    },
    "papermill": {
     "duration": 0.149707,
     "end_time": "2021-05-07T19:48:38.255146",
     "exception": false,
     "start_time": "2021-05-07T19:48:38.105439",
     "status": "completed"
    },
    "tags": []
   },
   "outputs": [
    {
     "name": "stdout",
     "output_type": "stream",
     "text": [
      "Setup Complete\n"
     ]
    }
   ],
   "source": [
    "from learntools.core import binder\n",
    "binder.bind(globals())\n",
    "from learntools.data_cleaning.ex4 import *\n",
    "print(\"Setup Complete\")"
   ]
  },
  {
   "cell_type": "markdown",
   "id": "muslim-strike",
   "metadata": {
    "papermill": {
     "duration": 0.013189,
     "end_time": "2021-05-07T19:48:38.282286",
     "exception": false,
     "start_time": "2021-05-07T19:48:38.269097",
     "status": "completed"
    },
    "tags": []
   },
   "source": [
    "# Get our environment set up\n",
    "\n",
    "The first thing we'll need to do is load in the libraries we'll be using."
   ]
  },
  {
   "cell_type": "code",
   "execution_count": 2,
   "id": "ranking-essay",
   "metadata": {
    "execution": {
     "iopub.execute_input": "2021-05-07T19:48:38.315402Z",
     "iopub.status.busy": "2021-05-07T19:48:38.314633Z",
     "iopub.status.idle": "2021-05-07T19:48:38.317644Z",
     "shell.execute_reply": "2021-05-07T19:48:38.318201Z"
    },
    "papermill": {
     "duration": 0.023135,
     "end_time": "2021-05-07T19:48:38.318388",
     "exception": false,
     "start_time": "2021-05-07T19:48:38.295253",
     "status": "completed"
    },
    "tags": []
   },
   "outputs": [],
   "source": [
    "# modules we'll use\n",
    "import pandas as pd\n",
    "import numpy as np\n",
    "\n",
    "# helpful character encoding module\n",
    "import chardet\n",
    "\n",
    "# set seed for reproducibility\n",
    "np.random.seed(0)"
   ]
  },
  {
   "cell_type": "markdown",
   "id": "acceptable-floating",
   "metadata": {
    "papermill": {
     "duration": 0.012659,
     "end_time": "2021-05-07T19:48:38.344221",
     "exception": false,
     "start_time": "2021-05-07T19:48:38.331562",
     "status": "completed"
    },
    "tags": []
   },
   "source": [
    "# 1) What are encodings?\n",
    "\n",
    "You're working with a dataset composed of bytes.  Run the code cell below to print a sample entry."
   ]
  },
  {
   "cell_type": "code",
   "execution_count": 3,
   "id": "impressed-characterization",
   "metadata": {
    "execution": {
     "iopub.execute_input": "2021-05-07T19:48:38.379527Z",
     "iopub.status.busy": "2021-05-07T19:48:38.378776Z",
     "iopub.status.idle": "2021-05-07T19:48:38.384133Z",
     "shell.execute_reply": "2021-05-07T19:48:38.383202Z"
    },
    "papermill": {
     "duration": 0.025321,
     "end_time": "2021-05-07T19:48:38.384330",
     "exception": false,
     "start_time": "2021-05-07T19:48:38.359009",
     "status": "completed"
    },
    "tags": []
   },
   "outputs": [
    {
     "name": "stdout",
     "output_type": "stream",
     "text": [
      "b'\\xa7A\\xa6n'\n",
      "data type: <class 'bytes'>\n"
     ]
    }
   ],
   "source": [
    "sample_entry = b'\\xa7A\\xa6n'\n",
    "print(sample_entry)\n",
    "print('data type:', type(sample_entry))"
   ]
  },
  {
   "cell_type": "markdown",
   "id": "collective-marsh",
   "metadata": {
    "papermill": {
     "duration": 0.013191,
     "end_time": "2021-05-07T19:48:38.414813",
     "exception": false,
     "start_time": "2021-05-07T19:48:38.401622",
     "status": "completed"
    },
    "tags": []
   },
   "source": [
    "You notice that it doesn't use the standard UTF-8 encoding. \n",
    "\n",
    "Use the next code cell to create a variable `new_entry` that changes the encoding from `\"big5-tw\"` to `\"utf-8\"`.  `new_entry` should have the bytes datatype."
   ]
  },
  {
   "cell_type": "code",
   "execution_count": 4,
   "id": "premium-telephone",
   "metadata": {
    "execution": {
     "iopub.execute_input": "2021-05-07T19:48:38.451137Z",
     "iopub.status.busy": "2021-05-07T19:48:38.450389Z",
     "iopub.status.idle": "2021-05-07T19:48:38.457124Z",
     "shell.execute_reply": "2021-05-07T19:48:38.456420Z"
    },
    "papermill": {
     "duration": 0.028992,
     "end_time": "2021-05-07T19:48:38.457277",
     "exception": false,
     "start_time": "2021-05-07T19:48:38.428285",
     "status": "completed"
    },
    "tags": []
   },
   "outputs": [
    {
     "data": {
      "application/javascript": [
       "parent.postMessage({\"jupyterEvent\": \"custom.exercise_interaction\", \"data\": {\"outcomeType\": 1, \"valueTowardsCompletion\": 0.3333333333333333, \"interactionType\": 1, \"questionType\": 1, \"questionId\": \"1_EncodingsIntro\", \"learnToolsVersion\": \"0.3.4\", \"failureMessage\": \"\", \"exceptionClass\": \"\", \"trace\": \"\"}}, \"*\")"
      ],
      "text/plain": [
       "<IPython.core.display.Javascript object>"
      ]
     },
     "metadata": {},
     "output_type": "display_data"
    },
    {
     "data": {
      "text/markdown": [
       "<span style=\"color:#33cc33\">Correct</span>"
      ],
      "text/plain": [
       "Correct"
      ]
     },
     "metadata": {},
     "output_type": "display_data"
    }
   ],
   "source": [
    "before = sample_entry.decode(\"big5-tw\")\n",
    "new_entry = before.encode()\n",
    "\n",
    "\n",
    "# Check your answer\n",
    "q1.check()"
   ]
  },
  {
   "cell_type": "code",
   "execution_count": 5,
   "id": "resistant-breeding",
   "metadata": {
    "execution": {
     "iopub.execute_input": "2021-05-07T19:48:38.491487Z",
     "iopub.status.busy": "2021-05-07T19:48:38.490564Z",
     "iopub.status.idle": "2021-05-07T19:48:38.494601Z",
     "shell.execute_reply": "2021-05-07T19:48:38.493925Z"
    },
    "papermill": {
     "duration": 0.022652,
     "end_time": "2021-05-07T19:48:38.494743",
     "exception": false,
     "start_time": "2021-05-07T19:48:38.472091",
     "status": "completed"
    },
    "tags": []
   },
   "outputs": [],
   "source": [
    "# Lines below will give you a hint or solution code\n",
    "#q1.hint()\n",
    "#q1.solution()"
   ]
  },
  {
   "cell_type": "markdown",
   "id": "spoken-contamination",
   "metadata": {
    "papermill": {
     "duration": 0.014594,
     "end_time": "2021-05-07T19:48:38.524299",
     "exception": false,
     "start_time": "2021-05-07T19:48:38.509705",
     "status": "completed"
    },
    "tags": []
   },
   "source": [
    "# 2) Reading in files with encoding problems\n",
    "\n",
    "Use the code cell below to read in this file at path `\"../input/fatal-police-shootings-in-the-us/PoliceKillingsUS.csv\"`.  \n",
    "\n",
    "Figure out what the correct encoding should be and read in the file to a DataFrame `police_killings`."
   ]
  },
  {
   "cell_type": "code",
   "execution_count": 6,
   "id": "addressed-commonwealth",
   "metadata": {
    "execution": {
     "iopub.execute_input": "2021-05-07T19:48:38.559426Z",
     "iopub.status.busy": "2021-05-07T19:48:38.558684Z",
     "iopub.status.idle": "2021-05-07T19:48:38.588196Z",
     "shell.execute_reply": "2021-05-07T19:48:38.587395Z"
    },
    "papermill": {
     "duration": 0.049035,
     "end_time": "2021-05-07T19:48:38.588361",
     "exception": false,
     "start_time": "2021-05-07T19:48:38.539326",
     "status": "completed"
    },
    "tags": []
   },
   "outputs": [
    {
     "data": {
      "application/javascript": [
       "parent.postMessage({\"jupyterEvent\": \"custom.exercise_interaction\", \"data\": {\"outcomeType\": 1, \"valueTowardsCompletion\": 0.3333333333333333, \"interactionType\": 1, \"questionType\": 1, \"questionId\": \"2_ReadIn\", \"learnToolsVersion\": \"0.3.4\", \"failureMessage\": \"\", \"exceptionClass\": \"\", \"trace\": \"\"}}, \"*\")"
      ],
      "text/plain": [
       "<IPython.core.display.Javascript object>"
      ]
     },
     "metadata": {},
     "output_type": "display_data"
    },
    {
     "data": {
      "text/markdown": [
       "<span style=\"color:#33cc33\">Correct</span>"
      ],
      "text/plain": [
       "Correct"
      ]
     },
     "metadata": {},
     "output_type": "display_data"
    }
   ],
   "source": [
    "# TODO: Load in the DataFrame correctly.\n",
    "police_killings = pd.read_csv(\"../input/fatal-police-shootings-in-the-us/PoliceKillingsUS.csv\", encoding='Windows-1252')\n",
    "\n",
    "# Check your answer\n",
    "q2.check()"
   ]
  },
  {
   "cell_type": "markdown",
   "id": "automotive-sphere",
   "metadata": {
    "papermill": {
     "duration": 0.015938,
     "end_time": "2021-05-07T19:48:38.621304",
     "exception": false,
     "start_time": "2021-05-07T19:48:38.605366",
     "status": "completed"
    },
    "tags": []
   },
   "source": [
    "Feel free to use any additional code cells for supplemental work.  To get credit for finishing this question, you'll need to run `q2.check()` and get a result of **Correct**."
   ]
  },
  {
   "cell_type": "code",
   "execution_count": 7,
   "id": "rational-poster",
   "metadata": {
    "execution": {
     "iopub.execute_input": "2021-05-07T19:48:38.659352Z",
     "iopub.status.busy": "2021-05-07T19:48:38.658657Z",
     "iopub.status.idle": "2021-05-07T19:48:38.661916Z",
     "shell.execute_reply": "2021-05-07T19:48:38.661340Z"
    },
    "papermill": {
     "duration": 0.02418,
     "end_time": "2021-05-07T19:48:38.662063",
     "exception": false,
     "start_time": "2021-05-07T19:48:38.637883",
     "status": "completed"
    },
    "tags": []
   },
   "outputs": [],
   "source": [
    "# (Optional) Use this code cell for any additional work."
   ]
  },
  {
   "cell_type": "code",
   "execution_count": 8,
   "id": "surprised-hours",
   "metadata": {
    "execution": {
     "iopub.execute_input": "2021-05-07T19:48:38.700451Z",
     "iopub.status.busy": "2021-05-07T19:48:38.699711Z",
     "iopub.status.idle": "2021-05-07T19:48:38.703435Z",
     "shell.execute_reply": "2021-05-07T19:48:38.702771Z"
    },
    "papermill": {
     "duration": 0.024705,
     "end_time": "2021-05-07T19:48:38.703584",
     "exception": false,
     "start_time": "2021-05-07T19:48:38.678879",
     "status": "completed"
    },
    "tags": []
   },
   "outputs": [],
   "source": [
    "# Lines below will give you a hint or solution code\n",
    "#q2.hint()\n",
    "#q2.solution()"
   ]
  },
  {
   "cell_type": "markdown",
   "id": "religious-arrow",
   "metadata": {
    "papermill": {
     "duration": 0.016554,
     "end_time": "2021-05-07T19:48:38.737005",
     "exception": false,
     "start_time": "2021-05-07T19:48:38.720451",
     "status": "completed"
    },
    "tags": []
   },
   "source": [
    "# 3) Saving your files with UTF-8 encoding\n",
    "\n",
    "Save a version of the police killings dataset to CSV with UTF-8 encoding.  Your answer will be marked correct after saving this file.  \n",
    "\n",
    "Note: When using the `to_csv()` method, supply only the name of the file (e.g., `\"my_file.csv\"`).  This saves the file at the filepath `\"/kaggle/working/my_file.csv\"`."
   ]
  },
  {
   "cell_type": "code",
   "execution_count": 9,
   "id": "respective-practice",
   "metadata": {
    "execution": {
     "iopub.execute_input": "2021-05-07T19:48:38.775522Z",
     "iopub.status.busy": "2021-05-07T19:48:38.774862Z",
     "iopub.status.idle": "2021-05-07T19:48:38.819776Z",
     "shell.execute_reply": "2021-05-07T19:48:38.819224Z"
    },
    "papermill": {
     "duration": 0.066868,
     "end_time": "2021-05-07T19:48:38.819935",
     "exception": false,
     "start_time": "2021-05-07T19:48:38.753067",
     "status": "completed"
    },
    "tags": []
   },
   "outputs": [
    {
     "data": {
      "application/javascript": [
       "parent.postMessage({\"jupyterEvent\": \"custom.exercise_interaction\", \"data\": {\"outcomeType\": 1, \"valueTowardsCompletion\": 0.3333333333333333, \"interactionType\": 1, \"questionType\": 2, \"questionId\": \"3_SaveCSV\", \"learnToolsVersion\": \"0.3.4\", \"failureMessage\": \"\", \"exceptionClass\": \"\", \"trace\": \"\"}}, \"*\")"
      ],
      "text/plain": [
       "<IPython.core.display.Javascript object>"
      ]
     },
     "metadata": {},
     "output_type": "display_data"
    },
    {
     "data": {
      "text/markdown": [
       "<span style=\"color:#33cc33\">Correct</span>"
      ],
      "text/plain": [
       "Correct"
      ]
     },
     "metadata": {},
     "output_type": "display_data"
    }
   ],
   "source": [
    "# TODO: Save the police killings dataset to CSV\n",
    "police_killings.to_csv(\"my_file.csv\")\n",
    "# Check your answer\n",
    "q3.check()"
   ]
  },
  {
   "cell_type": "code",
   "execution_count": 10,
   "id": "exciting-arrest",
   "metadata": {
    "execution": {
     "iopub.execute_input": "2021-05-07T19:48:38.859939Z",
     "iopub.status.busy": "2021-05-07T19:48:38.859265Z",
     "iopub.status.idle": "2021-05-07T19:48:38.862221Z",
     "shell.execute_reply": "2021-05-07T19:48:38.862896Z"
    },
    "papermill": {
     "duration": 0.025721,
     "end_time": "2021-05-07T19:48:38.863083",
     "exception": false,
     "start_time": "2021-05-07T19:48:38.837362",
     "status": "completed"
    },
    "tags": []
   },
   "outputs": [],
   "source": [
    "# Lines below will give you a hint or solution code\n",
    "#q3.hint()\n",
    "#q3.solution()"
   ]
  },
  {
   "cell_type": "markdown",
   "id": "distinguished-polyester",
   "metadata": {
    "papermill": {
     "duration": 0.017633,
     "end_time": "2021-05-07T19:48:38.898569",
     "exception": false,
     "start_time": "2021-05-07T19:48:38.880936",
     "status": "completed"
    },
    "tags": []
   },
   "source": [
    "# (Optional) More practice\n",
    "\n",
    "Check out [this dataset of files in different character encodings](https://www.kaggle.com/rtatman/character-encoding-examples). Can you read in all the files with their original encodings and them save them out as UTF-8 files?\n",
    "\n",
    "If you have a file that's in UTF-8 but has just a couple of weird-looking characters in it, you can try out the [ftfy module](https://ftfy.readthedocs.io/en/latest/#) and see if it helps. \n",
    "\n",
    "# Keep going\n",
    "\n",
    "In the final lesson, learn how to [**clean up inconsistent text entries**](https://www.kaggle.com/alexisbcook/inconsistent-data-entry) in your dataset."
   ]
  },
  {
   "cell_type": "markdown",
   "id": "forty-catalog",
   "metadata": {
    "papermill": {
     "duration": 0.016941,
     "end_time": "2021-05-07T19:48:38.933529",
     "exception": false,
     "start_time": "2021-05-07T19:48:38.916588",
     "status": "completed"
    },
    "tags": []
   },
   "source": [
    "---\n",
    "\n",
    "\n",
    "\n",
    "\n",
    "*Have questions or comments? Visit the [Learn Discussion forum](https://www.kaggle.com/learn-forum/172650) to chat with other Learners.*"
   ]
  }
 ],
 "metadata": {
  "kernelspec": {
   "display_name": "Python 3",
   "language": "python",
   "name": "python3"
  },
  "language_info": {
   "codemirror_mode": {
    "name": "ipython",
    "version": 3
   },
   "file_extension": ".py",
   "mimetype": "text/x-python",
   "name": "python",
   "nbconvert_exporter": "python",
   "pygments_lexer": "ipython3",
   "version": "3.7.9"
  },
  "papermill": {
   "default_parameters": {},
   "duration": 9.009536,
   "end_time": "2021-05-07T19:48:39.562511",
   "environment_variables": {},
   "exception": null,
   "input_path": "__notebook__.ipynb",
   "output_path": "__notebook__.ipynb",
   "parameters": {},
   "start_time": "2021-05-07T19:48:30.552975",
   "version": "2.3.2"
  }
 },
 "nbformat": 4,
 "nbformat_minor": 5
}
